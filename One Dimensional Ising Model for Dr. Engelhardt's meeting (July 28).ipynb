{
 "cells": [
  {
   "cell_type": "code",
   "execution_count": 4,
   "id": "a5b65d36-5aba-40b2-aefe-8d43fe78f54b",
   "metadata": {},
   "outputs": [],
   "source": [
    "import numpy as np\n",
    "import numpy.random as rnd\n",
    "from scipy import random\n",
    "import matplotlib.pyplot as plt\n",
    "\n",
    "\n",
    "def energy_ising_1d(configuration,J,h):\n",
    "    num_spins = len(configuration)\n",
    "    energy = 0.0\n",
    "    for i in range(num_spins):\n",
    "        spini = configuration[i]\n",
    "        ip1 = (i+1)%num_spins\n",
    "        spinip1 = configuration[ip1]\n",
    "        \n",
    "        energy += - J * (spini * spinip1) - h*spini\n",
    "        \n",
    "    return energy\n",
    "        "
   ]
  },
  {
   "cell_type": "code",
   "execution_count": 5,
   "id": "86b51430-545b-4a27-8273-dc5d81b1a35b",
   "metadata": {},
   "outputs": [
    {
     "name": "stdout",
     "output_type": "stream",
     "text": [
      "High temperature:\n",
      "Starting configuration: [ 1  1 -1 -1  1  1  1  1  1 -1]\n",
      "0:  [-1  1 -1 -1  1  1  1  1  1 -1] Energy: -2.0 Spin: 0.2\n",
      "10:  [-1  1 -1 -1 -1  1 -1 -1  1  1] Energy: 2.0 Spin: -0.2\n",
      "20:  [ 1 -1 -1  1  1 -1 -1  1 -1 -1] Energy: 2.0 Spin: -0.2\n",
      "30:  [-1 -1 -1 -1  1  1  1  1 -1 -1] Energy: -6.0 Spin: -0.2\n",
      "40:  [ 1 -1 -1  1  1  1  1  1  1 -1] Energy: -2.0 Spin: 0.4\n",
      "50:  [ 1  1 -1 -1 -1  1 -1 -1  1  1] Energy: -2.0 Spin: 0.0\n",
      "60:  [ 1 -1  1 -1  1  1 -1  1 -1  1] Energy: 6.0 Spin: 0.2\n",
      "70:  [ 1  1 -1  1 -1 -1  1 -1  1  1] Energy: 2.0 Spin: 0.2\n",
      "80:  [-1 -1  1 -1 -1 -1  1  1 -1  1] Energy: 2.0 Spin: -0.2\n",
      "90:  [ 1 -1  1  1 -1 -1 -1  1  1  1] Energy: -2.0 Spin: 0.2\n",
      "-------------------------------------------------------------------------------------\n",
      "Low temperature:\n",
      "Starting configuration: [-1 -1  1 -1 -1 -1  1 -1  1  1]\n",
      "0:  [ 1 -1  1 -1 -1 -1  1 -1  1  1] Energy: 2.0 Spin: 0.0\n",
      "10:  [-1 -1 -1  1 -1 -1 -1  1  1  1] Energy: -2.0 Spin: -0.2\n",
      "20:  [ 1  1 -1  1  1 -1 -1 -1 -1  1] Energy: -2.0 Spin: 0.0\n",
      "30:  [ 1  1  1  1 -1 -1 -1 -1 -1  1] Energy: -6.0 Spin: 0.0\n",
      "40:  [ 1  1  1  1  1  1 -1 -1 -1  1] Energy: -6.0 Spin: 0.4\n",
      "50:  [-1  1  1 -1 -1 -1 -1 -1 -1 -1] Energy: -6.0 Spin: -0.6\n",
      "60:  [-1  1  1 -1 -1 -1 -1 -1 -1 -1] Energy: -6.0 Spin: -0.6\n",
      "70:  [ 1  1  1  1 -1 -1 -1 -1 -1  1] Energy: -6.0 Spin: 0.0\n",
      "80:  [ 1  1  1 -1 -1 -1 -1 -1 -1  1] Energy: -6.0 Spin: -0.2\n",
      "90:  [-1 -1 -1  1 -1 -1 -1 -1 -1  1] Energy: -2.0 Spin: -0.6\n"
     ]
    }
   ],
   "source": [
    "random_seed = 1\n",
    "np.random.seed(random_seed)\n",
    "\n",
    "def metropolis_mc_slow(n_steps, n_lattice_sites, beta, J, h, debug=False,save_freq=10):\n",
    "    configuration = 2*np.random.randint(2, size=n_lattice_sites) - 1\n",
    "    average_spins = []\n",
    "    \n",
    "    if debug is True: \n",
    "        print(\"Starting configuration:\",configuration)\n",
    "    \n",
    "    current_energy = energy_ising_1d(configuration,J,h)\n",
    "    for i in range(n_steps):\n",
    "        \n",
    "        spin_to_change = np.random.randint(n_lattice_sites)\n",
    "        # Change configuration[spin_to_change] to it's opposite value (1->-1, -1->1). \n",
    "        # There is a very simple mathematical operation that does this, regarless of it's current value\n",
    "        configuration[spin_to_change] *= -1\n",
    "        \n",
    "        energy_flip = energy_ising_1d(configuration,J,h)\n",
    "        \n",
    "        r = np.random.random()\n",
    "        if r<min(1,np.exp(-beta*(energy_flip-current_energy))):\n",
    "            current_energy = energy_flip\n",
    "        else:\n",
    "            configuration[spin_to_change] *= -1\n",
    "        \n",
    "        average_spin = configuration.mean()\n",
    "        \n",
    "        if i%save_freq == 0:\n",
    "            average_spins.append(average_spin)    \n",
    "\n",
    "        if debug and i%10==0: \n",
    "            print(\"%i: \"%i,configuration,\"Energy:\",current_energy,\"Spin:\",average_spin)\n",
    "    \n",
    "    return average_spins\n",
    "\n",
    "##########\n",
    "def metropolis_mc_energy(n_steps, n_lattice_sites, beta, J, h, debug=False,save_freq=10):\n",
    "    configuration = 2*np.random.randint(2, size=n_lattice_sites) - 1\n",
    "    current_energys = []\n",
    "    \n",
    "    if debug is True: \n",
    "        print(\"Starting configuration:\",configuration)\n",
    "    \n",
    "    current_energy = energy_ising_1d(configuration,J,h)\n",
    "    for i in range(n_steps):\n",
    "        \n",
    "        spin_to_change = np.random.randint(n_lattice_sites)\n",
    "        # Change configuration[spin_to_change] to it's opposite value (1->-1, -1->1). \n",
    "        # There is a very simple mathematical operation that does this, regarless of it's current value\n",
    "        configuration[spin_to_change] *= -1\n",
    "        \n",
    "        energy_flip = energy_ising_1d(configuration,J,h)\n",
    "        \n",
    "        r = np.random.random()\n",
    "        if r<min(1,np.exp(-beta*(energy_flip-current_energy))):\n",
    "            current_energy = energy_flip\n",
    "        else:\n",
    "            configuration[spin_to_change] *= -1\n",
    "        \n",
    "        average_spin = configuration.mean()\n",
    "        \n",
    "        if i%save_freq == 0:\n",
    "            current_energys.append(current_energy)    \n",
    "\n",
    "        if debug and i%10==0: \n",
    "            print(\"%i: \"%i,configuration,\"Energy:\",current_energy,\"Spin:\",average_spin)\n",
    "    \n",
    "    return current_energys\n",
    "##########\n",
    "\n",
    "\n",
    "#high temperature\n",
    "print(\"High temperature:\")\n",
    "average_spins = metropolis_mc_slow(n_steps=100, n_lattice_sites=10, beta=0.1, J=1, h=0, debug=True)\n",
    "print(\"-------------------------------------------------------------------------------------\")\n",
    "\n",
    "#low temperature\n",
    "print(\"Low temperature:\")\n",
    "average_spins = metropolis_mc_slow(n_steps=100, n_lattice_sites=10, beta=1, J=1, h=0, debug=True)\n"
   ]
  },
  {
   "cell_type": "code",
   "execution_count": 9,
   "id": "612c080c-99b6-41e6-abc1-4f13e6e076bb",
   "metadata": {},
   "outputs": [
    {
     "data": {
      "image/png": "[encoded data removed]",
      "text/plain": [
       "<Figure size 432x288 with 1 Axes>"
      ]
     },
     "metadata": {
      "needs_background": "light"
     },
     "output_type": "display_data"
    },
    {
     "data": {
      "image/png": "[encoded data removed]",
      "text/plain": [
       "<Figure size 432x288 with 1 Axes>"
      ]
     },
     "metadata": {
      "needs_background": "light"
     },
     "output_type": "display_data"
    }
   ],
   "source": [
    "test_n_lattice_sites = 100\n",
    "test_beta = 10\n",
    "test_J = 1\n",
    "test_h = 0\n",
    "\n",
    "\n",
    "test_n_steps = 100000\n",
    "\n",
    "\n",
    "average_spins = metropolis_mc_slow(test_n_steps, test_n_lattice_sites, test_beta, test_J,test_h,save_freq=1)\n",
    "plt.plot(average_spins)\n",
    "plt.ylabel(\"$<\\sigma> $ Spin Ave.\")\n",
    "plt.xlabel(\"MC Step\")\n",
    "plt.title(\"$\\\\beta=%.2f,$J=%.2f,$h=%.2f$\"%(test_beta,test_J,test_h))\n",
    "plt.show()\n",
    "\n",
    "\n",
    "\n",
    "current_energys = metropolis_mc_energy(test_n_steps, test_n_lattice_sites, test_beta, test_J,test_h,save_freq=1)\n",
    "plt.plot(current_energys)\n",
    "plt.ylabel(\"Energy\")\n",
    "plt.xlabel(\"MC Step\")\n",
    "plt.title(\"$\\\\beta=%.2f,$J=%.2f,$h=%.2f$\"%(test_beta,test_J,test_h))\n",
    "plt.show()"
   ]
  },
  {
   "cell_type": "code",
   "execution_count": null,
   "id": "43bf9f98-bce4-48d2-be26-65ca3f5e0ea1",
   "metadata": {},
   "outputs": [],
   "source": []
  },
  {
   "cell_type": "code",
   "execution_count": null,
   "id": "41d81f94-d3f9-4b1a-aa50-3c03c0328c83",
   "metadata": {},
   "outputs": [],
   "source": []
  }
 ],
 "metadata": {
  "kernelspec": {
   "display_name": "NERSC Python",
   "language": "python",
   "name": "python3"
  },
  "language_info": {
   "codemirror_mode": {
    "name": "ipython",
    "version": 3
   },
   "file_extension": ".py",
   "mimetype": "text/x-python",
   "name": "python",
   "nbconvert_exporter": "python",
   "pygments_lexer": "ipython3",
   "version": "3.9.7"
  }
 },
 "nbformat": 4,
 "nbformat_minor": 5
}
