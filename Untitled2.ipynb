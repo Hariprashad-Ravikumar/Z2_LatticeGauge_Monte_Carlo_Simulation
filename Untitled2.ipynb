{
 "cells": [
  {
   "cell_type": "code",
   "execution_count": 1,
   "id": "5bdd0b4f-e456-45d1-a5ef-1ba4a8a5d50d",
   "metadata": {},
   "outputs": [
    {
     "name": "stdout",
     "output_type": "stream",
     "text": [
      "25.0 % done\n",
      "50.0 % done\n",
      "75.0 % done\n"
     ]
    },
    {
     "data": {
      "image/png": "[encoded data removed]",
      "text/plain": [
       "<Figure size 432x288 with 1 Axes>"
      ]
     },
     "metadata": {
      "needs_background": "light"
     },
     "output_type": "display_data"
    }
   ],
   "source": [
    "from __future__ import division, print_function\n",
    "import numpy as np\n",
    "import random as rand\n",
    "import pylab as plt\n",
    "\n",
    "def deltaU(i, j):\n",
    "\n",
    "    \n",
    "    top = s[size-1,j] if i==0 else s[i-1,j]\n",
    "    bottom = s[0,j] if i==size-1 else s[i+1,j]\n",
    "    left = s[i, size-1] if j==0 else s[i,j-1]\n",
    "    right = s[i,0] if j==size-1 else s[i,j+1]\n",
    "    Ediff = 2*s[i,j]*(top+bottom+left+right)\n",
    "    return Ediff\n",
    "\n",
    "def initialize():\n",
    "    for i in range(size):\n",
    "        for j in range(size):\n",
    "            s[i,j] = 1 if rand.random()<0.5 else -1\n",
    "\n",
    "            \n",
    "size = 20 # Size of the square lattice\n",
    "T = 10 # Temperature in units of epsilon/k\n",
    "upperLimit = 1000*size*size # Each dipole is flipped an\n",
    "# average 1000 times\n",
    "s = np.zeros((size, size), dtype=int) # Create the lattice as a 2D array\n",
    "initialize() # Initialize the array\n",
    "plt.figure() # Initialize the plot\n",
    "\n",
    "for iteration in range(1, upperLimit): # The main iteration loop\n",
    "    i = rand.randint(0, size-1) # Choose a random dipole\n",
    "    j = rand.randint(0, size-1)\n",
    "    Ediff = deltaU(i, j) # Compute the energy change of a\n",
    "    # hypothetical flip\n",
    "    if Ediff <= 0: # Flip the dipole if energy is reduced\n",
    "        s[i,j] = -s[i,j]\n",
    "    else: # Else, the Boltzmann factor gives\n",
    "        if rand.random() < np.exp(-Ediff/T): # the probability of flipping\n",
    "            s[i,j] = -s[i,j]\n",
    "    if iteration % 100000 == 0:\n",
    "        print((iteration/upperLimit)*100, \"% done\")\n",
    "        \n",
    "        \n",
    "plt.imshow(s, interpolation='nearest') # Plot the final configuration\n",
    "plt.show()"
   ]
  },
  {
   "cell_type": "code",
   "execution_count": null,
   "id": "f8b524fe-d49f-41cb-ac91-89a24641103a",
   "metadata": {},
   "outputs": [],
   "source": []
  }
 ],
 "metadata": {
  "kernelspec": {
   "display_name": "NERSC Python",
   "language": "python",
   "name": "python3"
  },
  "language_info": {
   "codemirror_mode": {
    "name": "ipython",
    "version": 3
   },
   "file_extension": ".py",
   "mimetype": "text/x-python",
   "name": "python",
   "nbconvert_exporter": "python",
   "pygments_lexer": "ipython3",
   "version": "3.9.7"
  }
 },
 "nbformat": 4,
 "nbformat_minor": 5
}
